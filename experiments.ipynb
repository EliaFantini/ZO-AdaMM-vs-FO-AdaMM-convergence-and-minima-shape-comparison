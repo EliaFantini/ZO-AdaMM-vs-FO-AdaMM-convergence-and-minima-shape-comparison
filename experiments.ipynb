{
 "cells": [
  {
   "cell_type": "markdown",
   "metadata": {
    "collapsed": true,
    "pycharm": {
     "name": "#%% md\n"
    }
   },
   "source": [
    "# Training AdaMM"
   ]
  },
  {
   "cell_type": "code",
   "execution_count": 1,
   "metadata": {
    "pycharm": {
     "name": "#%%\n"
    }
   },
   "outputs": [],
   "source": [
    "import matplotlib.pyplot as plt\n",
    "import numpy as np\n",
    "import torch\n",
    "\n",
    "\n",
    "%load_ext autoreload\n",
    "%autoreload 2\n",
    "\n",
    "from run import main, experiments\n",
    "from utils import read_json"
   ]
  },
  {
   "cell_type": "code",
   "execution_count": null,
   "metadata": {
    "pycharm": {
     "name": "#%%\n"
    }
   },
   "outputs": [],
   "source": [
    "def multiple_trainings_subplots(title, train_losses, validation_losses, validation_accuracies, epoch_time):\n",
    "\n",
    "    fig, axs = plt.subplots(1, 3)\n",
    "    fig.suptitle(title, fontsize=16)\n",
    "    axs.flat[0].plot(train_losses, label= \"Train Loss\")\n",
    "    axs.flat[0].plot(validation_losses, label= \"Test Loss\")\n",
    "    axs.flat[0].set_title(\"Losses\")\n",
    "    axs.flat[0].legend()\n",
    "    axs.flat[1].plot(validation_accuracies, label= \"Accuracy\")\n",
    "    axs.flat[1].set_title(\"Accuracy\")\n",
    "    axs.flat[1].legend()\n",
    "    axs.flat[2].hist(epoch_time, label= \"Time\", bins=30)\n",
    "    mean = np.asarray(epoch_time).mean()\n",
    "    axs.flat[2].axvline(mean, color = 'red', lw = 3, label = f\"mean: {np.round(mean, 3)}\")\n",
    "    axs.flat[2].set_title(\"Execution time\")\n",
    "    axs.flat[2].legend()\n",
    "\n",
    "    #fig.supxlabel(\"Epochs\")\n",
    "    #fig.supylabel(\"Metrics\")\n",
    "    fig = plt.gcf()\n",
    "    fig.set_size_inches(18, 5)\n",
    "\n",
    "    plt.show()"
   ]
  },
  {
   "cell_type": "markdown",
   "metadata": {
    "pycharm": {
     "name": "#%% md\n"
    }
   },
   "source": [
    "## EfficientNet B0"
   ]
  },
  {
   "cell_type": "code",
   "execution_count": null,
   "metadata": {
    "pycharm": {
     "name": "#%%\n"
    }
   },
   "outputs": [],
   "source": [
    "config = {\n",
    "    \"seed\": 23,\n",
    "    \"batch_size\": 128,\n",
    "    \"net\": 'b0',\n",
    "    \"optimizer\": 'AdaMM',\n",
    "    \"epochs\": 10,\n",
    "    \"verbose\": True\n",
    "}"
   ]
  },
  {
   "cell_type": "code",
   "execution_count": null,
   "metadata": {
    "pycharm": {
     "name": "#%%\n"
    }
   },
   "outputs": [],
   "source": [
    "train_losses, validation_losses, validation_accuracies, epoch_time = main(False, config = config)"
   ]
  },
  {
   "cell_type": "code",
   "execution_count": null,
   "metadata": {
    "pycharm": {
     "name": "#%%\n"
    }
   },
   "outputs": [],
   "source": [
    "multiple_trainings_subplots(\"AdaMM and EfficientNet B0\",train_losses, validation_losses, validation_accuracies, epoch_time)"
   ]
  },
  {
   "cell_type": "code",
   "execution_count": null,
   "metadata": {
    "pycharm": {
     "name": "#%%\n"
    }
   },
   "outputs": [],
   "source": [
    "config['optimizer']='Our-AdaMM'\n",
    "train_losses, validation_losses, validation_accuracies, epoch_time = main(False, config = config)"
   ]
  },
  {
   "cell_type": "code",
   "execution_count": null,
   "metadata": {
    "pycharm": {
     "name": "#%%\n"
    }
   },
   "outputs": [],
   "source": [
    "multiple_trainings_subplots(\"Our-AdaMM and EfficientNet B0\",train_losses, validation_losses, validation_accuracies, epoch_time)\n"
   ]
  },
  {
   "cell_type": "code",
   "execution_count": null,
   "metadata": {
    "pycharm": {
     "name": "#%%\n"
    }
   },
   "outputs": [],
   "source": [
    "config['optimizer'] = 'ZO-AdaMM'\n",
    "config['lr'] = 1e-4\n",
    "config['beta1'] = 0.8\n",
    "config['beta2'] = 0.95\n",
    "config['mu'] = 1e-4\n",
    "config['epochs'] = 20\n",
    "\n",
    "with torch.no_grad():\n",
    "    train_losses, validation_losses, validation_accuracies, epoch_time = main(False, config = config, zo_optim=True)"
   ]
  },
  {
   "cell_type": "code",
   "execution_count": null,
   "metadata": {
    "pycharm": {
     "name": "#%%\n"
    }
   },
   "outputs": [],
   "source": [
    "multiple_trainings_subplots(\"ZO-AdaMM and EfficientNet B0\",train_losses, validation_losses, validation_accuracies, epoch_time)"
   ]
  },
  {
   "cell_type": "code",
   "execution_count": null,
   "metadata": {
    "pycharm": {
     "name": "#%%\n"
    }
   },
   "outputs": [],
   "source": [
    "multiple_trainings_subplots(\"Our-AdaMM and EfficientNet B0\",train_losses, validation_losses, validation_accuracies, epoch_time)\n"
   ]
  },
  {
   "cell_type": "code",
   "execution_count": null,
   "metadata": {
    "pycharm": {
     "name": "#%%\n"
    }
   },
   "outputs": [],
   "source": [
    "config['optimizer'] = 'ZO-AdaMM'\n",
    "config['lr'] = 1e-4\n",
    "config['beta1'] = 0.8\n",
    "config['beta2'] = 0.95\n",
    "config['mu'] = 1e-4\n",
    "config['epochs'] = 20\n",
    "\n",
    "with torch.no_grad():\n",
    "    train_losses, validation_losses, validation_accuracies, epoch_time = main(False, config = config, zo_optim=True)"
   ]
  },
  {
   "cell_type": "code",
   "execution_count": null,
   "metadata": {
    "pycharm": {
     "name": "#%%\n"
    }
   },
   "outputs": [],
   "source": [
    "multiple_trainings_subplots(\"ZO-AdaMM and EfficientNet B0\",train_losses, validation_losses, validation_accuracies, epoch_time)"
   ]
  },
  {
   "cell_type": "markdown",
   "metadata": {
    "pycharm": {
     "name": "#%% md\n"
    }
   },
   "source": [
    "## EfficientNet B1"
   ]
  },
  {
   "cell_type": "code",
   "execution_count": null,
   "metadata": {
    "pycharm": {
     "name": "#%%\n"
    }
   },
   "outputs": [],
   "source": [
    "config['optimizer']='AdaMM'\n",
    "config['net']='b1'\n",
    "train_losses, validation_losses, validation_accuracies, epoch_time = main(False, config = config)"
   ]
  },
  {
   "cell_type": "code",
   "execution_count": null,
   "metadata": {
    "pycharm": {
     "name": "#%%\n"
    }
   },
   "outputs": [],
   "source": [
    "multiple_trainings_subplots(\"AdaMM and EfficientNet B1\",train_losses, validation_losses, validation_accuracies, epoch_time)"
   ]
  },
  {
   "cell_type": "code",
   "execution_count": null,
   "metadata": {
    "pycharm": {
     "name": "#%%\n"
    }
   },
   "outputs": [],
   "source": [
    "config['optimizer']=\"Our-AdaMM\"\n",
    "train_losses, validation_losses, validation_accuracies, epoch_time = main(False, config = config)"
   ]
  },
  {
   "cell_type": "code",
   "execution_count": null,
   "metadata": {
    "pycharm": {
     "name": "#%%\n"
    }
   },
   "outputs": [],
   "source": [
    "multiple_trainings_subplots(\"Our-AdaMM and EfficientNet B1\",train_losses, validation_losses, validation_accuracies, epoch_time)"
   ]
  },
  {
   "cell_type": "markdown",
   "metadata": {
    "pycharm": {
     "name": "#%% md\n"
    }
   },
   "source": [
    "## EfficientNet B2"
   ]
  },
  {
   "cell_type": "code",
   "execution_count": null,
   "metadata": {
    "pycharm": {
     "name": "#%%\n"
    }
   },
   "outputs": [],
   "source": [
    "config['optimizer']='AdaMM'\n",
    "config['net']='b2'\n",
    "train_losses, validation_losses, validation_accuracies, epoch_time = main(False, config = config)"
   ]
  },
  {
   "cell_type": "code",
   "execution_count": null,
   "metadata": {
    "pycharm": {
     "name": "#%%\n"
    }
   },
   "outputs": [],
   "source": [
    "multiple_trainings_subplots(\"AdaMM and EfficientNet B2\",train_losses, validation_losses, validation_accuracies, epoch_time)"
   ]
  },
  {
   "cell_type": "code",
   "execution_count": null,
   "metadata": {
    "pycharm": {
     "name": "#%%\n"
    }
   },
   "outputs": [],
   "source": [
    "config['optimizer']=\"Our-AdaMM\"\n",
    "train_losses, validation_losses, validation_accuracies, epoch_time = main(False, config = config)"
   ]
  },
  {
   "cell_type": "code",
   "execution_count": null,
   "metadata": {
    "pycharm": {
     "name": "#%%\n"
    }
   },
   "outputs": [],
   "source": [
    "multiple_trainings_subplots(\"Our-AdaMM and EfficientNet B2\",train_losses, validation_losses, validation_accuracies, epoch_time)"
   ]
  },
  {
   "cell_type": "markdown",
   "metadata": {
    "pycharm": {
     "name": "#%% md\n"
    }
   },
   "source": [
    "## EfficientNet B3"
   ]
  },
  {
   "cell_type": "code",
   "execution_count": null,
   "metadata": {
    "pycharm": {
     "name": "#%%\n"
    }
   },
   "outputs": [],
   "source": [
    "config['optimizer']='AdaMM'\n",
    "config['net']='b3'\n",
    "train_losses, validation_losses, validation_accuracies, epoch_time = main(False, config = config)"
   ]
  },
  {
   "cell_type": "code",
   "execution_count": null,
   "metadata": {
    "pycharm": {
     "name": "#%%\n"
    }
   },
   "outputs": [],
   "source": [
    "multiple_trainings_subplots(\"AdaMM and EfficientNet B3\",train_losses, validation_losses, validation_accuracies, epoch_time)"
   ]
  },
  {
   "cell_type": "code",
   "execution_count": null,
   "metadata": {
    "pycharm": {
     "name": "#%%\n"
    }
   },
   "outputs": [],
   "source": [
    "config['optimizer']=\"Our-AdaMM\"\n",
    "train_losses, validation_losses, validation_accuracies, epoch_time = main(False, config = config)"
   ]
  },
  {
   "cell_type": "code",
   "execution_count": null,
   "metadata": {
    "pycharm": {
     "name": "#%%\n"
    }
   },
   "outputs": [],
   "source": [
    "multiple_trainings_subplots(\"Our-AdaMM and EfficientNet B3\",train_losses, validation_losses, validation_accuracies, epoch_time)"
   ]
  },
  {
   "cell_type": "markdown",
   "metadata": {
    "pycharm": {
     "name": "#%% md\n"
    }
   },
   "source": [
    "## EfficientNet B4"
   ]
  },
  {
   "cell_type": "code",
   "execution_count": null,
   "metadata": {
    "pycharm": {
     "name": "#%%\n"
    }
   },
   "outputs": [],
   "source": [
    "config['optimizer']='AdaMM'\n",
    "config['net']='b4'\n",
    "train_losses, validation_losses, validation_accuracies, epoch_time = main(False, config = config)"
   ]
  },
  {
   "cell_type": "code",
   "execution_count": null,
   "metadata": {
    "pycharm": {
     "name": "#%%\n"
    }
   },
   "outputs": [],
   "source": [
    "multiple_trainings_subplots(\"AdaMM and EfficientNet B4\",train_losses, validation_losses, validation_accuracies, epoch_time)"
   ]
  },
  {
   "cell_type": "code",
   "execution_count": null,
   "metadata": {
    "pycharm": {
     "name": "#%%\n"
    }
   },
   "outputs": [],
   "source": [
    "config['optimizer']=\"Our-AdaMM\"\n",
    "train_losses, validation_losses, validation_accuracies, epoch_time = main(False, config = config)"
   ]
  },
  {
   "cell_type": "code",
   "execution_count": null,
   "metadata": {
    "pycharm": {
     "name": "#%%\n"
    }
   },
   "outputs": [],
   "source": [
    "multiple_trainings_subplots(\"Our-AdaMM and EfficientNet B4\",train_losses, validation_losses, validation_accuracies, epoch_time)"
   ]
  },
  {
   "cell_type": "markdown",
   "metadata": {
    "pycharm": {
     "name": "#%% md\n"
    }
   },
   "source": [
    "## EfficientNet B5"
   ]
  },
  {
   "cell_type": "code",
   "execution_count": null,
   "metadata": {
    "pycharm": {
     "name": "#%%\n"
    }
   },
   "outputs": [],
   "source": [
    "config['optimizer']='AdaMM'\n",
    "config['net']='b5'\n",
    "train_losses, validation_losses, validation_accuracies, epoch_time = main(False, config = config)"
   ]
  },
  {
   "cell_type": "code",
   "execution_count": null,
   "metadata": {
    "pycharm": {
     "name": "#%%\n"
    }
   },
   "outputs": [],
   "source": [
    "multiple_trainings_subplots(\"AdaMM and EfficientNet B5\",train_losses, validation_losses, validation_accuracies, epoch_time)"
   ]
  },
  {
   "cell_type": "code",
   "execution_count": null,
   "metadata": {
    "pycharm": {
     "name": "#%%\n"
    }
   },
   "outputs": [],
   "source": [
    "config['optimizer']=\"Our-AdaMM\"\n",
    "train_losses, validation_losses, validation_accuracies, epoch_time = main(False, config = config)"
   ]
  },
  {
   "cell_type": "code",
   "execution_count": null,
   "metadata": {
    "pycharm": {
     "name": "#%%\n"
    }
   },
   "outputs": [],
   "source": [
    "multiple_trainings_subplots(\"Our-AdaMM and EfficientNet B5\",train_losses, validation_losses, validation_accuracies, epoch_time)"
   ]
  },
  {
   "cell_type": "markdown",
   "metadata": {
    "pycharm": {
     "name": "#%% md\n"
    }
   },
   "source": [
    "## EfficientNet B6"
   ]
  },
  {
   "cell_type": "code",
   "execution_count": null,
   "metadata": {
    "pycharm": {
     "name": "#%%\n"
    }
   },
   "outputs": [],
   "source": [
    "config['optimizer']='AdaMM'\n",
    "config['net']='b6'\n",
    "train_losses, validation_losses, validation_accuracies, epoch_time = main(False, config = config)"
   ]
  },
  {
   "cell_type": "code",
   "execution_count": null,
   "metadata": {
    "pycharm": {
     "name": "#%%\n"
    }
   },
   "outputs": [],
   "source": [
    "multiple_trainings_subplots(\"AdaMM and EfficientNet B6\",train_losses, validation_losses, validation_accuracies, epoch_time)"
   ]
  },
  {
   "cell_type": "code",
   "execution_count": null,
   "metadata": {
    "pycharm": {
     "name": "#%%\n"
    }
   },
   "outputs": [],
   "source": [
    "config['optimizer']=\"Our-AdaMM\"\n",
    "train_losses, validation_losses, validation_accuracies, epoch_time = main(False, config = config)"
   ]
  },
  {
   "cell_type": "code",
   "execution_count": null,
   "metadata": {
    "pycharm": {
     "name": "#%%\n"
    }
   },
   "outputs": [],
   "source": [
    "multiple_trainings_subplots(\"Our-AdaMM and EfficientNet B6\",train_losses, validation_losses, validation_accuracies, epoch_time)"
   ]
  },
  {
   "cell_type": "markdown",
   "metadata": {
    "pycharm": {
     "name": "#%% md\n"
    }
   },
   "source": [
    "## EfficientNet B7"
   ]
  },
  {
   "cell_type": "code",
   "execution_count": null,
   "metadata": {
    "pycharm": {
     "name": "#%%\n"
    }
   },
   "outputs": [],
   "source": [
    "config['optimizer']='AdaMM'\n",
    "config['net']='b7'\n",
    "train_losses, validation_losses, validation_accuracies, epoch_time = main(False, config = config)"
   ]
  },
  {
   "cell_type": "code",
   "execution_count": null,
   "metadata": {
    "pycharm": {
     "name": "#%%\n"
    }
   },
   "outputs": [],
   "source": [
    "multiple_trainings_subplots(\"AdaMM and EfficientNet B7\",train_losses, validation_losses, validation_accuracies, epoch_time)"
   ]
  },
  {
   "cell_type": "code",
   "execution_count": null,
   "metadata": {
    "pycharm": {
     "name": "#%%\n"
    }
   },
   "outputs": [],
   "source": [
    "config['optimizer']=\"Our-AdaMM\"\n",
    "train_losses, validation_losses, validation_accuracies, epoch_time = main(False, config = config)"
   ]
  },
  {
   "cell_type": "code",
   "execution_count": null,
   "metadata": {
    "pycharm": {
     "name": "#%%\n"
    }
   },
   "outputs": [],
   "source": [
    "multiple_trainings_subplots(\"Our-AdaMM and EfficientNet B7\",train_losses, validation_losses, validation_accuracies, epoch_time)"
   ]
  },
  {
   "cell_type": "markdown",
   "metadata": {
    "pycharm": {
     "name": "#%% md\n"
    }
   },
   "source": [
    "# Experiments"
   ]
  },
  {
   "cell_type": "code",
   "execution_count": 2,
   "metadata": {
    "pycharm": {
     "name": "#%%\n"
    }
   },
   "outputs": [],
   "source": [
    "# Basic configuration\n",
    "config = {\n",
    "    \"seed\": 42,\n",
    "    \"batch_size\": 128,\n",
    "    \"net\": \"scalable\",\n",
    "    \"scale\": 1.0/9,\n",
    "    \"opt_params\": [1e-3, 0.9, 0.999, 1e-8],\n",
    "    \"optimizer\": 'ZO-AdaMM',\n",
    "    \"epochs\": 50,\n",
    "    \"dataset\": \"mnist\",\n",
    "    \"zo_optim\": True,\n",
    "    \"mu\": 1e-3,\n",
    "    \"use_scheduler\": True,\n",
    "    \"verbose\": True\n",
    "}"
   ]
  },
  {
   "cell_type": "code",
   "execution_count": 7,
   "metadata": {
    "pycharm": {
     "name": "#%%\n"
    }
   },
   "outputs": [],
   "source": [
    "# Define the different scales of the model\n",
    "scales = torch.linspace(1.0/9, 120 - 1/9, 50).tolist()\n",
    "scales = [scales[1]]"
   ]
  },
  {
   "cell_type": "code",
   "execution_count": 8,
   "outputs": [
    {
     "name": "stdout",
     "output_type": "stream",
     "text": [
      "Scale set to : 2.555555582046509\n",
      "Running configuration:\n",
      "    seed : 42\n",
      "    batch_size : 128\n",
      "    net : scalable\n",
      "    scale : 2.555555582046509\n",
      "    opt_params : [0.001, 0.9, 0.999, 1e-08]\n",
      "    optimizer : ZO-AdaMM\n",
      "    epochs : 50\n",
      "    dataset : mnist\n",
      "    zo_optim : True\n",
      "    mu : 0.001\n",
      "    use_scheduler : True\n",
      "    verbose : True\n",
      "Seed set to : 42\n",
      "Device used:  cpu \n",
      "\n",
      "d= 28817, sqrt(d)= 169.75570682601514\n",
      "Epoch: 1/50 |train loss: 2.2234 |test loss: 2.0299 |acc: 0.3999 |time: 8.9743\n",
      "Epoch: 6/50 |train loss: 0.9578 |test loss: 0.9065 |acc: 0.7071 |time: 9.3306\n",
      "Epoch: 11/50 |train loss: 0.8520 |test loss: 0.8302 |acc: 0.7376 |time: 10.5599\n",
      "Epoch: 16/50 |train loss: 0.7969 |test loss: 0.7636 |acc: 0.7575 |time: 12.0046\n",
      "Epoch: 21/50 |train loss: 0.7426 |test loss: 0.7270 |acc: 0.7711 |time: 10.4136\n",
      "Mu reduced from 0.001 to 0.0005 on param_group 0\n",
      "Learning rate reduced from 0.001 to 0.0005 on param_group 0\n",
      "Epoch: 26/50 |train loss: 0.6884 |test loss: 0.6604 |acc: 0.7921 |time: 11.9468\n",
      "Epoch: 31/50 |train loss: 0.6450 |test loss: 0.6265 |acc: 0.8081 |time: 10.6963\n",
      "Epoch: 36/50 |train loss: 0.6089 |test loss: 0.5752 |acc: 0.8171 |time: 11.2915\n",
      "Epoch: 41/50 |train loss: 0.5762 |test loss: 0.5625 |acc: 0.8263 |time: 9.6063\n",
      "Epoch: 46/50 |train loss: 0.5547 |test loss: 0.5360 |acc: 0.8419 |time: 9.7381\n",
      "Mu reduced from 0.0005 to 0.00025 on param_group 0\n",
      "Learning rate reduced from 0.0005 to 0.00025 on param_group 0\n"
     ]
    }
   ],
   "source": [
    "experiments(config, 'results', scales, 1, record_weights=True, weights_path=f'results/weights/weights_sequence_{scales[0]}')"
   ],
   "metadata": {
    "collapsed": false,
    "pycharm": {
     "name": "#%%\n"
    }
   }
  },
  {
   "cell_type": "code",
   "execution_count": null,
   "outputs": [],
   "source": [],
   "metadata": {
    "collapsed": false,
    "pycharm": {
     "name": "#%%\n"
    }
   }
  }
 ],
 "metadata": {
  "kernelspec": {
   "display_name": "Python 3 (ipykernel)",
   "language": "python",
   "name": "python3"
  },
  "language_info": {
   "codemirror_mode": {
    "name": "ipython",
    "version": 3
   },
   "file_extension": ".py",
   "mimetype": "text/x-python",
   "name": "python",
   "nbconvert_exporter": "python",
   "pygments_lexer": "ipython3",
   "version": "3.8.8"
  }
 },
 "nbformat": 4,
 "nbformat_minor": 1
}